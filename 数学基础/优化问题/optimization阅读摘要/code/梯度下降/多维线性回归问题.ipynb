{
 "cells": [
  {
   "cell_type": "code",
   "execution_count": 1,
   "metadata": {},
   "outputs": [
    {
     "data": {
      "image/png": "[encoded data removed]",
      "text/plain": [
       "<Figure size 640x480 with 1 Axes>"
      ]
     },
     "metadata": {},
     "output_type": "display_data"
    },
    {
     "name": "stdout",
     "output_type": "stream",
     "text": [
      "theta [4.02469061 3.00847641]\n"
     ]
    }
   ],
   "source": [
    "# 多维线性回归问题（梯度下降法）: https://blog.csdn.net/m0_47146037/article/details/120965340\n",
    "\n",
    "import numpy as np\n",
    "import matplotlib.pyplot as plt\n",
    "\n",
    "# 设置随机种子\n",
    "np.random.seed(666)\n",
    "# 用一维数据方便可视化，但实际是对矩阵进行操作\n",
    "x = np.random.random(size = 100)\n",
    "y = x * 3. + 4. + np.random.normal(size = 100) # 噪音：均值为0，方差为1\n",
    "\n",
    "X = x.reshape(-1, 1) # 数组array中的方法，作用是将数据重新组织成100行1列的数据\n",
    "\n",
    "# print('X数组', X.shape)\n",
    "# print('y数组', y.shape)\n",
    "\n",
    "plt.scatter(x, y)\n",
    "plt.show()\n",
    "\n",
    "# 损失函数\n",
    "def J(theta, X_b, y):\n",
    "  try:\n",
    "    return np.sum((y - X_b.dot(theta)) ** 2 / len(X_b))\n",
    "  except:\n",
    "    return float('inf') # 返回float最大值\n",
    "\n",
    "# 梯度(比较笨的方法)\n",
    "def dJ(theta, X_b, y):\n",
    "  res = np.empty(len(theta)) # 开一个和theta一样大的空间(因为要对theta的每一个元素求偏导)\n",
    "  res[0] = np.sum(X_b.dot(theta) - y) # 第一行单独写，其他的要写一个循环\n",
    "  for i in range(1, len(theta)):\n",
    "    res[i] = (X_b.dot(theta) - y).dot(X_b[:,i]) # X_b[:,i]相当于取出第i列，也就是第i个特征值\n",
    "  return res * 2 / len(X_b)\n",
    "\n",
    "# 直接复制之前模拟梯度下降过程的代码,然后进行更改\n",
    "def gradient_descent(X_b, y, initial_theta, eta, n_iters = 1e4, epsilon = 1e-8):\n",
    "  theta = initial_theta\n",
    "  i_iters = 0\n",
    "\n",
    "  while i_iters < n_iters:\n",
    "      gradient = dJ(theta, X_b, y) # 求梯度\n",
    "      last_theta = theta # theta重新赋值前，记录上一场的值\n",
    "      theta = theta - eta * gradient # 通过一定的eta学习率取得下一个点的theta\n",
    "      # 最近两点的损失函数差值小于一定精度，退出循环\n",
    "      if(abs(J(theta, X_b, y) - J(last_theta, X_b, y)) < epsilon):\n",
    "          break\n",
    "      i_iters += 1\n",
    "  return theta\n",
    "\n",
    "\n",
    "''' \n",
    "  初始化数值\n",
    "'''\n",
    "# X添加一列样本个数行、1列，每个取值都是1的一列\n",
    "X_b = np.hstack([np.ones((len(X), 1)), X])\n",
    "initial_theta = np.zeros(X_b.shape[1]) # 设置n+1维的向量,X_b.shape[1]:第一行的维数\n",
    "eta = 0.1\n",
    "\n",
    "theta = gradient_descent(X_b, y, initial_theta, eta)\n",
    "\n",
    "print('theta', theta)\n"
   ]
  }
 ],
 "metadata": {
  "kernelspec": {
   "display_name": "base",
   "language": "python",
   "name": "python3"
  },
  "language_info": {
   "codemirror_mode": {
    "name": "ipython",
    "version": 3
   },
   "file_extension": ".py",
   "mimetype": "text/x-python",
   "name": "python",
   "nbconvert_exporter": "python",
   "pygments_lexer": "ipython3",
   "version": "3.9.7"
  }
 },
 "nbformat": 4,
 "nbformat_minor": 2
}
