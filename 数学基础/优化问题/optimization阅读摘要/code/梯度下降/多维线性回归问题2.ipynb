{
 "cells": [
  {
   "cell_type": "code",
   "execution_count": 22,
   "metadata": {},
   "outputs": [
    {
     "name": "stdout",
     "output_type": "stream",
     "text": [
      "(100, 1)\n",
      "100001 0.17348520855910635 [[3.02847661]\n",
      " [4.21601171]\n",
      " [2.91214803]\n",
      " [4.49095533]\n",
      " [4.96983076]]\n"
     ]
    }
   ],
   "source": [
    "# 多维线性回归问题（梯度下降法）: https://blog.csdn.net/m0_47146037/article/details/120965340\n",
    "\n",
    "import numpy as np\n",
    "import matplotlib.pyplot as plt\n",
    "\n",
    "# 设置随机种子\n",
    "np.random.seed(666)\n",
    "# 构造真值\n",
    "x1 = np.linspace(0, 10, 100)\n",
    "x2 = x1\n",
    "# print(x1)\n",
    "y_gt = 2*x1**2 + 3*x1 + 4*x2**2 + 5*x2 + 6 + np.random.random() \n",
    "# print(y_gt)\n",
    "\n",
    "# y_ = y_gt + np.random.random([100,1]).T\n",
    "y_ = y_gt.reshape([100,1])\n",
    "print(y_.shape)\n",
    "\n",
    "para_ = np.random.rand(5).reshape([5,1])\n",
    "\n",
    "x_b = np.ones([len(x1), 5])\n",
    "x_b[:, 0] = x1**2\n",
    "x_b[:, 1] = x1\n",
    "x_b[:, 2] = x2**2\n",
    "x_b[:, 3] = x2\n",
    "x_b[:, 4] = 1\n",
    "\n",
    "count = 0\n",
    "lr_rate = 0.0001\n",
    "loss_ = 0\n",
    "while True:\n",
    "  y_hat = x_b.dot(para_)\n",
    "  loss_ = (0.5 * (y_ - y_hat) ** 2).mean() # 计算loss\n",
    "  \n",
    "  gradient = x_b.T.dot(y_hat - y_) / len(y_)\n",
    "    \n",
    "  # print(gradient)\n",
    "  \n",
    "  # 梯度下降（参数更新）\n",
    "  para_ = para_ - lr_rate * gradient # \n",
    "  \n",
    "  count += 1\n",
    "  # print(count, loss_)\n",
    "    \n",
    "  if count > 1e5 or loss_ < 0.01:\n",
    "      break\n",
    "    \n",
    "print(count, loss_, para_)"
   ]
  }
 ],
 "metadata": {
  "kernelspec": {
   "display_name": "base",
   "language": "python",
   "name": "python3"
  },
  "language_info": {
   "codemirror_mode": {
    "name": "ipython",
    "version": 3
   },
   "file_extension": ".py",
   "mimetype": "text/x-python",
   "name": "python",
   "nbconvert_exporter": "python",
   "pygments_lexer": "ipython3",
   "version": "3.9.7"
  }
 },
 "nbformat": 4,
 "nbformat_minor": 2
}
