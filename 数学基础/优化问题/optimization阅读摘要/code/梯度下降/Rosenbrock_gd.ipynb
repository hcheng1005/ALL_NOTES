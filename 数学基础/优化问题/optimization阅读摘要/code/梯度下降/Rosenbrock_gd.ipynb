{
 "cells": [
  {
   "cell_type": "code",
   "execution_count": null,
   "metadata": {},
   "outputs": [],
   "source": [
    "import numpy as np\n",
    "\n",
    "# Rosenbrock 函数\n",
    "# f(x,y) = (1-x)^2 + 100*(y - x^2)^2\n",
    "lr_ = 0.0001"
   ]
  },
  {
   "cell_type": "code",
   "execution_count": null,
   "metadata": {},
   "outputs": [],
   "source": [
    "# 梯度下降法\n",
    "x, y = 2, 2\n",
    "gt_ = 100\n",
    "count = 0\n",
    "while(gt_ > 0.001):\n",
    "    x_ = 400 * (x**3 - x*y) + 2*(x-1)\n",
    "    y_ = 200*(y - x**2)\n",
    "    \n",
    "    x = x - lr_ * x_\n",
    "    y = y - lr_ * y_\n",
    "    \n",
    "    gt_ = (x_**2+y_**2)**(0.5)\n",
    "    print(gt_)\n",
    "    count += 1\n",
    "    \n",
    "print(count, x, y)"
   ]
  },
  {
   "cell_type": "code",
   "execution_count": null,
   "metadata": {},
   "outputs": [],
   "source": [
    "# Momentum\n",
    "x, y = 2, 2\n",
    "gt_ = 100\n",
    "count = 0\n",
    "v1, v2, beta_ = 0.001, 0.001, 0.9\n",
    "while(gt_ > 0.001):\n",
    "    x_ = 400 * (x**3 - x*y) + 2*(x-1)\n",
    "    y_ = 200*(y - x**2)\n",
    "    \n",
    "    v1 = beta_ * v1 - lr_ * x_\n",
    "    x = x + v1\n",
    "    \n",
    "    v2 = beta_ * v2 - lr_ * y_\n",
    "    y = y + v2\n",
    "    \n",
    "    gt_ = (x_**2+y_**2)**(0.5)\n",
    "    print(gt_)\n",
    "    count += 1\n",
    "    \n",
    "print(count, x, y)"
   ]
  }
 ],
 "metadata": {
  "kernelspec": {
   "display_name": "base",
   "language": "python",
   "name": "python3"
  },
  "language_info": {
   "codemirror_mode": {
    "name": "ipython",
    "version": 3
   },
   "file_extension": ".py",
   "mimetype": "text/x-python",
   "name": "python",
   "nbconvert_exporter": "python",
   "pygments_lexer": "ipython3",
   "version": "3.9.12"
  }
 },
 "nbformat": 4,
 "nbformat_minor": 2
}
